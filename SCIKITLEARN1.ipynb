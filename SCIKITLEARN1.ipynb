{
 "cells": [
  {
   "cell_type": "markdown",
   "id": "c5c8c52e-d46b-4d2b-8ada-605a162205f8",
   "metadata": {},
   "source": [
    "# Machine Learning"
   ]
  },
  {
   "cell_type": "markdown",
   "id": "46467d2e-cf8a-49db-ba71-d8c830ecd102",
   "metadata": {},
   "source": [
    "<< Donner a une machine la capacite d'apprendre sans la programmer de facon explicite. >> 'Arthur Samuel'"
   ]
  },
  {
   "cell_type": "markdown",
   "id": "b23d48c1-8e38-4a73-bf63-709f16d1d71a",
   "metadata": {},
   "source": [
    "-> Devlopper un modele a partir de donnees "
   ]
  },
  {
   "cell_type": "markdown",
   "id": "fe5c191a-f301-44e3-86dc-69a8a5eae9cc",
   "metadata": {},
   "source": [
    "Pour ca ils existent 3 techecnique :\n",
    "\n",
    "1. Apprentissage supervise\n",
    "\n",
    "2. Apprentissage Non-supervise\n",
    "\n",
    "3. Apprentissage par renforcement"
   ]
  },
  {
   "cell_type": "markdown",
   "id": "b8b0dcfa-666f-4242-89a4-d457c405f3ff",
   "metadata": {},
   "source": [
    "# Apprentissage Supervise"
   ]
  },
  {
   "cell_type": "markdown",
   "id": "3c3a0705-b9d2-4b74-ac8b-ad44c9d6ddb9",
   "metadata": {},
   "source": [
    "La machine recoit des donnees caracterisees par des variables x (Features) et annotees d'une variable y (Label , Target)"
   ]
  },
  {
   "cell_type": "markdown",
   "id": "1aa7f775-6f4e-4cbb-914f-e2f17b029e90",
   "metadata": {},
   "source": [
    "Dans L'apprentissage supervise le but est que la machine apprenne a predire y en fonction de x qu'on luis donne "
   ]
  },
  {
   "cell_type": "markdown",
   "id": "666a3683-b9b3-4df3-bb05-8a2eef32f703",
   "metadata": {},
   "source": [
    "En fournissant beaucoup de donnees a la machine, on constitue un Dataset"
   ]
  },
  {
   "cell_type": "markdown",
   "id": "18a0cb0a-6e31-47a4-b227-4de21ed3f460",
   "metadata": {},
   "source": [
    "On specifie quel type de modele la machine doit apprendre, \n",
    "en precisant les hyperparametres du modele"
   ]
  },
  {
   "cell_type": "markdown",
   "id": "19eb57e0-ce7b-41d6-8e0b-0a1636253b00",
   "metadata": {},
   "source": [
    "si il s'agit de modele : lineaire , polinomiale , arbre de decision, \n",
    "reseau de neuronne "
   ]
  },
  {
   "cell_type": "markdown",
   "id": "fdee484d-c374-488c-b8c9-2797b46e3232",
   "metadata": {},
   "source": [
    "# Phase d'entrainement "
   ]
  },
  {
   "cell_type": "markdown",
   "id": "f8718d66-e3f8-45d2-918b-8e256c3efd39",
   "metadata": {},
   "source": [
    "Une fois qu'on a fait tout cela la machine peut commencer a travailler \n",
    "elle vas utiliser un algorithme d'optimisation pour trouver qu'elle sont les parametre de modele qui fournissent les meilleures performance sur le dataset"
   ]
  },
  {
   "cell_type": "markdown",
   "id": "9e670991-28de-43ff-805b-204da3d90fa8",
   "metadata": {},
   "source": [
    "une fois cette phase terminer c'est fini !\n",
    "le modele de machine learning est pret a etre utilise"
   ]
  },
  {
   "cell_type": "markdown",
   "id": "31954d6a-d1f2-426c-850a-108626c1fc6e",
   "metadata": {},
   "source": [
    "lorsque la machine recois des donnee sans etiquette cette fois ci elle vas utiliser le model pour predire qu'elle est la valeur de y"
   ]
  },
  {
   "cell_type": "markdown",
   "id": "df2106e8-0199-4a0c-9479-b1ca6c04a8eb",
   "metadata": {},
   "source": [
    "Grace a cette methode on peut a la fois resoudre des problemes:"
   ]
  },
  {
   "cell_type": "markdown",
   "id": "a66312fe-d30e-404b-b857-6b5720823c2b",
   "metadata": {},
   "source": [
    "# Regression "
   ]
  },
  {
   "cell_type": "code",
   "execution_count": 1,
   "id": "0e7da8c2-e897-41ab-9fbf-291167e90ad2",
   "metadata": {
    "jupyter": {
     "source_hidden": true
    },
    "tags": []
   },
   "outputs": [
    {
     "data": {
      "image/png": "[encoded data removed]",
      "text/plain": [
       "<Figure size 640x480 with 1 Axes>"
      ]
     },
     "metadata": {},
     "output_type": "display_data"
    }
   ],
   "source": [
    "import numpy as np\n",
    "import matplotlib.pyplot as plt\n",
    "\n",
    "# Créer des données\n",
    "x = np.linspace(0, 10, 100)\n",
    "y = 2 * x + 1\n",
    "\n",
    "# Ajouter du bruit aux données\n",
    "noise = np.random.normal(0, 1, size=100)\n",
    "y += noise\n",
    "\n",
    "# Calculer les coefficients de régression\n",
    "a, b = np.polyfit(x, y, 1)\n",
    "\n",
    "# Tracer la droite de régression\n",
    "y_pred = a * x + b\n",
    "plt.plot(x, y_pred, color='red')\n",
    "\n",
    "# Tracer les données\n",
    "plt.plot(x, y, '.')\n",
    "\n",
    "# Afficher le graphique\n",
    "plt.show()"
   ]
  },
  {
   "cell_type": "markdown",
   "id": "15478a89-76a2-4211-9177-388eab0cf6df",
   "metadata": {},
   "source": [
    "prix d'un appartement \n"
   ]
  },
  {
   "cell_type": "markdown",
   "id": "8a5d8287-5c7e-4080-8379-544179440cc5",
   "metadata": {},
   "source": [
    "( y est continue ) \"variable contitatif\""
   ]
  },
  {
   "cell_type": "markdown",
   "id": "fbaf3c14-c039-4255-892a-3421dabb14be",
   "metadata": {},
   "source": [
    "# Classification"
   ]
  },
  {
   "cell_type": "markdown",
   "id": "8a9607b9-3d16-4c98-92f4-58a3dbab89d1",
   "metadata": {},
   "source": [
    "Email Spam/Non-Spame\n",
    "\n",
    "(y est discrete) \"variable calitatif\""
   ]
  },
  {
   "cell_type": "markdown",
   "id": "d7f78bf2-0853-4182-a16f-d13109328317",
   "metadata": {},
   "source": [
    "# Sklearn Supervised Learning"
   ]
  },
  {
   "cell_type": "markdown",
   "id": "47273fe3-3d31-4b3d-ae28-b3e0114b3a4d",
   "metadata": {},
   "source": [
    "1. Selectionner un estimateur et preciser ses hyperparametres :"
   ]
  },
  {
   "cell_type": "markdown",
   "id": "5eff56f1-3ce4-4212-b03d-30a43341d7dc",
   "metadata": {},
   "source": [
    "model = LinearrRegression(.....................)"
   ]
  },
  {
   "cell_type": "markdown",
   "id": "80a76551-e6b2-4d12-a758-86a0d6822475",
   "metadata": {
    "tags": []
   },
   "source": [
    "obj     |constructeur|     hyperparametres"
   ]
  },
  {
   "cell_type": "markdown",
   "id": "ec73cb90-e256-4409-aa18-417c563d3c28",
   "metadata": {},
   "source": [
    "model = SGDRegressor(eta0 = 0.3) # Learning_rate = 0.3"
   ]
  },
  {
   "cell_type": "markdown",
   "id": "d73cc8bf-b20c-4649-ac3f-b7182801be1a",
   "metadata": {},
   "source": [
    "model = RandomForestClassifier(n_estimation=100)"
   ]
  },
  {
   "cell_type": "markdown",
   "id": "77c98719-43ae-47e3-a56e-eef6c9273611",
   "metadata": {},
   "source": [
    "2. Entrainer le model sur les donnees x,y "
   ]
  },
  {
   "cell_type": "markdown",
   "id": "2f0aa19b-8244-464c-bde1-5d6f903c8795",
   "metadata": {},
   "source": [
    "(devisees en 2 tableaux numpy)"
   ]
  },
  {
   "cell_type": "markdown",
   "id": "10f05612-b945-41d2-bb82-7f5b0c988dc5",
   "metadata": {
    "tags": []
   },
   "source": [
    "model.fit(x,y)"
   ]
  },
  {
   "cell_type": "markdown",
   "id": "98b3dda8-ae6f-407f-8041-0c72230edb4d",
   "metadata": {},
   "source": [
    "=> x et y doivent avoire 2 dimention !\n",
    "\n",
    "[n_samples, n_features]"
   ]
  },
  {
   "cell_type": "markdown",
   "id": "182c8526-2668-4535-bf31-26b9763183bc",
   "metadata": {},
   "source": [
    "a l'interieur de tab y la dimention est toujour a 1 "
   ]
  },
  {
   "cell_type": "markdown",
   "id": "1c7301f4-b646-4367-8103-380a9bbc60a5",
   "metadata": {},
   "source": [
    "y = y.reshape((y.shape[0], 1))"
   ]
  },
  {
   "cell_type": "markdown",
   "id": "38d8f07c-ed02-4feb-8d7f-d51cfa5ec4b4",
   "metadata": {
    "tags": []
   },
   "source": [
    "3. Evaluer le modele \n",
    "\n",
    "modele.score(x,y)"
   ]
  },
  {
   "cell_type": "markdown",
   "id": "c1a410de-e355-4eae-afa4-be0ead619e05",
   "metadata": {},
   "source": [
    "4. Utiliser le modele \n",
    "\n",
    "modele.predict(x)"
   ]
  },
  {
   "cell_type": "markdown",
   "id": "d8acf495-1058-44ac-aab7-75a5ea9a8e79",
   "metadata": {},
   "source": [
    "# Regression Lineaire:\n",
    "\n",
    "model = LinearRegression()\n",
    "\n",
    "model.fit(x,y)\n",
    "\n",
    "model.score(x,y)\n",
    "\n",
    "model.predict(x)"
   ]
  },
  {
   "cell_type": "markdown",
   "id": "e867e3a7-cd6b-4243-8cd7-63f1e34e93b3",
   "metadata": {},
   "source": [
    "# Regression Logistique:\n",
    "\n",
    "model = LogisticRegression()\n",
    "\n",
    "model.fit(x,y)\n",
    "\n",
    "model.score(x,y)\n",
    "\n",
    "model.predict(x)"
   ]
  },
  {
   "cell_type": "markdown",
   "id": "e15ac4f2-5cad-49aa-b170-b3f9bebe89a2",
   "metadata": {},
   "source": [
    "# Support Vector Machine:\n",
    "\n",
    "model = SVC()\n",
    "\n",
    "model.fit(x,y)\n",
    "\n",
    "model.score(x,y)\n",
    "\n",
    "model.predict(x)"
   ]
  },
  {
   "cell_type": "markdown",
   "id": "91ae406e-81dd-4dc4-b4f1-f9432fd7923a",
   "metadata": {
    "tags": []
   },
   "source": [
    "# Random Forest:\n",
    "\n",
    "model = RandomForestClassifier()\n",
    "\n",
    "model.fit(x,y)\n",
    "\n",
    "model.score(x,y)\n",
    "\n",
    "model.predict(x)"
   ]
  },
  {
   "cell_type": "markdown",
   "id": "bf9dc2eb-9cd4-4d02-a5a8-09539867779e",
   "metadata": {},
   "source": [
    "# 1) Regression avec SKLearn"
   ]
  },
  {
   "cell_type": "code",
   "execution_count": 2,
   "id": "68e606ad-e26f-46a1-9f12-837bbc9d8145",
   "metadata": {
    "tags": []
   },
   "outputs": [],
   "source": [
    "import numpy as np\n",
    "import matplotlib.pyplot as plt "
   ]
  },
  {
   "cell_type": "code",
   "execution_count": 3,
   "id": "5fbf910f-898d-4a8e-aa00-619c181e3a14",
   "metadata": {
    "tags": []
   },
   "outputs": [],
   "source": [
    "np.random.seed(0)\n",
    "m = 100 # creating 100 samples\n",
    "x = np.linspace(0,10,m).reshape(m, 1)\n",
    "y = x + np.random.randn(m, 1)"
   ]
  },
  {
   "cell_type": "code",
   "execution_count": 4,
   "id": "da568b1a-e6ec-4005-9d94-7bd370d4885f",
   "metadata": {
    "tags": []
   },
   "outputs": [
    {
     "data": {
      "text/plain": [
       "<matplotlib.collections.PathCollection at 0x1dc8dc16560>"
      ]
     },
     "execution_count": 4,
     "metadata": {},
     "output_type": "execute_result"
    },
    {
     "data": {
      "image/png": "[encoded data removed]",
      "text/plain": [
       "<Figure size 640x480 with 1 Axes>"
      ]
     },
     "metadata": {},
     "output_type": "display_data"
    }
   ],
   "source": [
    "plt.scatter(x, y)"
   ]
  },
  {
   "cell_type": "code",
   "execution_count": 5,
   "id": "60a1d64c-d923-4da7-9ae5-f913d2f3e67e",
   "metadata": {
    "tags": []
   },
   "outputs": [],
   "source": [
    "from sklearn.linear_model import LinearRegression"
   ]
  },
  {
   "cell_type": "code",
   "execution_count": 6,
   "id": "76ba6e2d-5963-45ea-9726-76d3d4756f78",
   "metadata": {
    "tags": []
   },
   "outputs": [
    {
     "data": {
      "text/plain": [
       "[<matplotlib.lines.Line2D at 0x1dc9353d510>]"
      ]
     },
     "execution_count": 6,
     "metadata": {},
     "output_type": "execute_result"
    },
    {
     "data": {
      "image/png": "[encoded data removed]",
      "text/plain": [
       "<Figure size 640x480 with 1 Axes>"
      ]
     },
     "metadata": {},
     "output_type": "display_data"
    }
   ],
   "source": [
    "model = LinearRegression()\n",
    "model.fit(x,y)\n",
    "model.score(x,y) # Coefficient de determination\n",
    "prediction = model.predict(x)\n",
    "plt.scatter(x,y)\n",
    "plt.plot(x, prediction, c='r' )"
   ]
  },
  {
   "cell_type": "code",
   "execution_count": 7,
   "id": "b6a76cf6-db34-4f2a-9a88-057e527c4500",
   "metadata": {
    "tags": []
   },
   "outputs": [],
   "source": [
    "np.random.seed(0)\n",
    "m = 100 # creating 100 samples\n",
    "x = np.linspace(0,10,m).reshape(m, 1)\n",
    "y = x**2 + np.random.randn(m, 1)"
   ]
  },
  {
   "cell_type": "code",
   "execution_count": 8,
   "id": "61369538-f1eb-4e98-9052-8dabef790754",
   "metadata": {
    "tags": []
   },
   "outputs": [
    {
     "data": {
      "text/plain": [
       "<matplotlib.collections.PathCollection at 0x1dc9362e950>"
      ]
     },
     "execution_count": 8,
     "metadata": {},
     "output_type": "execute_result"
    },
    {
     "data": {
      "image/png": "[encoded data removed]",
      "text/plain": [
       "<Figure size 640x480 with 1 Axes>"
      ]
     },
     "metadata": {},
     "output_type": "display_data"
    }
   ],
   "source": [
    "plt.scatter(x, y)"
   ]
  },
  {
   "cell_type": "code",
   "execution_count": 9,
   "id": "d4c07ebc-9e84-44ed-bdba-2fd6b4acfc5b",
   "metadata": {
    "tags": []
   },
   "outputs": [
    {
     "name": "stdout",
     "output_type": "stream",
     "text": [
      "Name: scikit-learn\n",
      "Version: 1.2.2\n",
      "Summary: A set of python modules for machine learning and data mining\n",
      "Home-page: http://scikit-learn.org\n",
      "Author: \n",
      "Author-email: \n",
      "License: new BSD\n",
      "Location: c:\\users\\maiss\\anaconda3\\lib\\site-packages\n",
      "Requires: joblib, numpy, scipy, threadpoolctl\n",
      "Required-by: daal4py, dask-searchcv, scikit-learn-intelex, scikit-plot, skl2onnx\n"
     ]
    }
   ],
   "source": [
    "!pip show scikit-learn"
   ]
  },
  {
   "cell_type": "code",
   "execution_count": 10,
   "id": "bb3ded30-4ba5-4773-9831-c862616e13f8",
   "metadata": {
    "tags": []
   },
   "outputs": [
    {
     "name": "stdout",
     "output_type": "stream",
     "text": [
      "Requirement already satisfied: scikit-learn in c:\\users\\maiss\\anaconda3\\lib\\site-packages (1.2.2)\n",
      "Requirement already satisfied: numpy>=1.17.3 in c:\\users\\maiss\\anaconda3\\lib\\site-packages (from scikit-learn) (1.26.0)\n",
      "Requirement already satisfied: threadpoolctl>=2.0.0 in c:\\users\\maiss\\anaconda3\\lib\\site-packages (from scikit-learn) (2.2.0)\n",
      "Requirement already satisfied: scipy>=1.3.2 in c:\\users\\maiss\\anaconda3\\lib\\site-packages (from scikit-learn) (1.11.3)\n",
      "Requirement already satisfied: joblib>=1.1.1 in c:\\users\\maiss\\anaconda3\\lib\\site-packages (from scikit-learn) (1.1.1)\n"
     ]
    }
   ],
   "source": [
    "!pip install scikit-learn"
   ]
  },
  {
   "cell_type": "code",
   "execution_count": 11,
   "id": "8d5a441a-de7d-4652-bc81-817dbcd2ad73",
   "metadata": {
    "tags": []
   },
   "outputs": [],
   "source": [
    "from sklearn.svm import SVR"
   ]
  },
  {
   "cell_type": "code",
   "execution_count": 12,
   "id": "d7b5404e-b4b5-479a-b335-fae227777d35",
   "metadata": {
    "tags": []
   },
   "outputs": [
    {
     "name": "stderr",
     "output_type": "stream",
     "text": [
      "C:\\Users\\maiss\\anaconda3\\lib\\site-packages\\sklearn\\utils\\validation.py:1143: DataConversionWarning: A column-vector y was passed when a 1d array was expected. Please change the shape of y to (n_samples, ), for example using ravel().\n",
      "  y = column_or_1d(y, warn=True)\n"
     ]
    },
    {
     "data": {
      "text/plain": [
       "[<matplotlib.lines.Line2D at 0x1dc936ed240>]"
      ]
     },
     "execution_count": 12,
     "metadata": {},
     "output_type": "execute_result"
    },
    {
     "data": {
      "image/png": "[encoded data removed]",
      "text/plain": [
       "<Figure size 640x480 with 1 Axes>"
      ]
     },
     "metadata": {},
     "output_type": "display_data"
    }
   ],
   "source": [
    "model = SVR(C=100)\n",
    "model.fit(x,y)\n",
    "model.score(x,y) # Coefficient de determination\n",
    "prediction = model.predict(x)\n",
    "plt.scatter(x,y)\n",
    "plt.plot(x, prediction, c='r' )"
   ]
  },
  {
   "cell_type": "markdown",
   "id": "6d539a6c-987f-4271-8272-1c18ac798dde",
   "metadata": {},
   "source": [
    "# Sklearn Classification KNN"
   ]
  },
  {
   "cell_type": "code",
   "execution_count": 13,
   "id": "d579add3-9992-4d7e-a7d4-25a18572d789",
   "metadata": {
    "tags": []
   },
   "outputs": [],
   "source": [
    "import pandas as pd \n",
    "import seaborn as sns"
   ]
  },
  {
   "cell_type": "code",
   "execution_count": 14,
   "id": "a679c069-39e6-46bb-8953-919b107bd724",
   "metadata": {
    "tags": []
   },
   "outputs": [
    {
     "data": {
      "text/plain": [
       "(891, 15)"
      ]
     },
     "execution_count": 14,
     "metadata": {},
     "output_type": "execute_result"
    }
   ],
   "source": [
    "titanic = sns.load_dataset('titanic')\n",
    "titanic.shape"
   ]
  },
  {
   "cell_type": "code",
   "execution_count": 15,
   "id": "9648bc51-3c7d-4117-b589-1fc774eda92a",
   "metadata": {
    "tags": []
   },
   "outputs": [
    {
     "data": {
      "text/html": [
       "<div>\n",
       "<style scoped>\n",
       "    .dataframe tbody tr th:only-of-type {\n",
       "        vertical-align: middle;\n",
       "    }\n",
       "\n",
       "    .dataframe tbody tr th {\n",
       "        vertical-align: top;\n",
       "    }\n",
       "\n",
       "    .dataframe thead th {\n",
       "        text-align: right;\n",
       "    }\n",
       "</style>\n",
       "<table border=\"1\" class=\"dataframe\">\n",
       "  <thead>\n",
       "    <tr style=\"text-align: right;\">\n",
       "      <th></th>\n",
       "      <th>survived</th>\n",
       "      <th>pclass</th>\n",
       "      <th>sex</th>\n",
       "      <th>age</th>\n",
       "      <th>sibsp</th>\n",
       "      <th>parch</th>\n",
       "      <th>fare</th>\n",
       "      <th>embarked</th>\n",
       "      <th>class</th>\n",
       "      <th>who</th>\n",
       "      <th>adult_male</th>\n",
       "      <th>deck</th>\n",
       "      <th>embark_town</th>\n",
       "      <th>alive</th>\n",
       "      <th>alone</th>\n",
       "    </tr>\n",
       "  </thead>\n",
       "  <tbody>\n",
       "    <tr>\n",
       "      <th>0</th>\n",
       "      <td>0</td>\n",
       "      <td>3</td>\n",
       "      <td>male</td>\n",
       "      <td>22.0</td>\n",
       "      <td>1</td>\n",
       "      <td>0</td>\n",
       "      <td>7.2500</td>\n",
       "      <td>S</td>\n",
       "      <td>Third</td>\n",
       "      <td>man</td>\n",
       "      <td>True</td>\n",
       "      <td>NaN</td>\n",
       "      <td>Southampton</td>\n",
       "      <td>no</td>\n",
       "      <td>False</td>\n",
       "    </tr>\n",
       "    <tr>\n",
       "      <th>1</th>\n",
       "      <td>1</td>\n",
       "      <td>1</td>\n",
       "      <td>female</td>\n",
       "      <td>38.0</td>\n",
       "      <td>1</td>\n",
       "      <td>0</td>\n",
       "      <td>71.2833</td>\n",
       "      <td>C</td>\n",
       "      <td>First</td>\n",
       "      <td>woman</td>\n",
       "      <td>False</td>\n",
       "      <td>C</td>\n",
       "      <td>Cherbourg</td>\n",
       "      <td>yes</td>\n",
       "      <td>False</td>\n",
       "    </tr>\n",
       "    <tr>\n",
       "      <th>2</th>\n",
       "      <td>1</td>\n",
       "      <td>3</td>\n",
       "      <td>female</td>\n",
       "      <td>26.0</td>\n",
       "      <td>0</td>\n",
       "      <td>0</td>\n",
       "      <td>7.9250</td>\n",
       "      <td>S</td>\n",
       "      <td>Third</td>\n",
       "      <td>woman</td>\n",
       "      <td>False</td>\n",
       "      <td>NaN</td>\n",
       "      <td>Southampton</td>\n",
       "      <td>yes</td>\n",
       "      <td>True</td>\n",
       "    </tr>\n",
       "    <tr>\n",
       "      <th>3</th>\n",
       "      <td>1</td>\n",
       "      <td>1</td>\n",
       "      <td>female</td>\n",
       "      <td>35.0</td>\n",
       "      <td>1</td>\n",
       "      <td>0</td>\n",
       "      <td>53.1000</td>\n",
       "      <td>S</td>\n",
       "      <td>First</td>\n",
       "      <td>woman</td>\n",
       "      <td>False</td>\n",
       "      <td>C</td>\n",
       "      <td>Southampton</td>\n",
       "      <td>yes</td>\n",
       "      <td>False</td>\n",
       "    </tr>\n",
       "    <tr>\n",
       "      <th>4</th>\n",
       "      <td>0</td>\n",
       "      <td>3</td>\n",
       "      <td>male</td>\n",
       "      <td>35.0</td>\n",
       "      <td>0</td>\n",
       "      <td>0</td>\n",
       "      <td>8.0500</td>\n",
       "      <td>S</td>\n",
       "      <td>Third</td>\n",
       "      <td>man</td>\n",
       "      <td>True</td>\n",
       "      <td>NaN</td>\n",
       "      <td>Southampton</td>\n",
       "      <td>no</td>\n",
       "      <td>True</td>\n",
       "    </tr>\n",
       "  </tbody>\n",
       "</table>\n",
       "</div>"
      ],
      "text/plain": [
       "   survived  pclass     sex   age  sibsp  parch     fare embarked  class  \\\n",
       "0         0       3    male  22.0      1      0   7.2500        S  Third   \n",
       "1         1       1  female  38.0      1      0  71.2833        C  First   \n",
       "2         1       3  female  26.0      0      0   7.9250        S  Third   \n",
       "3         1       1  female  35.0      1      0  53.1000        S  First   \n",
       "4         0       3    male  35.0      0      0   8.0500        S  Third   \n",
       "\n",
       "     who  adult_male deck  embark_town alive  alone  \n",
       "0    man        True  NaN  Southampton    no  False  \n",
       "1  woman       False    C    Cherbourg   yes  False  \n",
       "2  woman       False  NaN  Southampton   yes   True  \n",
       "3  woman       False    C  Southampton   yes  False  \n",
       "4    man        True  NaN  Southampton    no   True  "
      ]
     },
     "execution_count": 15,
     "metadata": {},
     "output_type": "execute_result"
    }
   ],
   "source": [
    "titanic.head()"
   ]
  },
  {
   "cell_type": "code",
   "execution_count": 16,
   "id": "9f2d1684-7572-49c5-a6d2-10d1040b4e51",
   "metadata": {
    "tags": []
   },
   "outputs": [
    {
     "data": {
      "text/html": [
       "<div>\n",
       "<style scoped>\n",
       "    .dataframe tbody tr th:only-of-type {\n",
       "        vertical-align: middle;\n",
       "    }\n",
       "\n",
       "    .dataframe tbody tr th {\n",
       "        vertical-align: top;\n",
       "    }\n",
       "\n",
       "    .dataframe thead th {\n",
       "        text-align: right;\n",
       "    }\n",
       "</style>\n",
       "<table border=\"1\" class=\"dataframe\">\n",
       "  <thead>\n",
       "    <tr style=\"text-align: right;\">\n",
       "      <th></th>\n",
       "      <th>survived</th>\n",
       "      <th>pclass</th>\n",
       "      <th>sex</th>\n",
       "      <th>age</th>\n",
       "    </tr>\n",
       "  </thead>\n",
       "  <tbody>\n",
       "    <tr>\n",
       "      <th>0</th>\n",
       "      <td>0</td>\n",
       "      <td>3</td>\n",
       "      <td>0</td>\n",
       "      <td>22.0</td>\n",
       "    </tr>\n",
       "    <tr>\n",
       "      <th>1</th>\n",
       "      <td>1</td>\n",
       "      <td>1</td>\n",
       "      <td>1</td>\n",
       "      <td>38.0</td>\n",
       "    </tr>\n",
       "    <tr>\n",
       "      <th>2</th>\n",
       "      <td>1</td>\n",
       "      <td>3</td>\n",
       "      <td>1</td>\n",
       "      <td>26.0</td>\n",
       "    </tr>\n",
       "    <tr>\n",
       "      <th>3</th>\n",
       "      <td>1</td>\n",
       "      <td>1</td>\n",
       "      <td>1</td>\n",
       "      <td>35.0</td>\n",
       "    </tr>\n",
       "    <tr>\n",
       "      <th>4</th>\n",
       "      <td>0</td>\n",
       "      <td>3</td>\n",
       "      <td>0</td>\n",
       "      <td>35.0</td>\n",
       "    </tr>\n",
       "  </tbody>\n",
       "</table>\n",
       "</div>"
      ],
      "text/plain": [
       "   survived  pclass  sex   age\n",
       "0         0       3    0  22.0\n",
       "1         1       1    1  38.0\n",
       "2         1       3    1  26.0\n",
       "3         1       1    1  35.0\n",
       "4         0       3    0  35.0"
      ]
     },
     "execution_count": 16,
     "metadata": {},
     "output_type": "execute_result"
    }
   ],
   "source": [
    "titanic = titanic[['survived', 'pclass', 'sex', 'age']]\n",
    "titanic.dropna(axis=0, inplace=True)\n",
    "titanic['sex'].replace(['male', 'female'], [0,1], inplace=True)\n",
    "titanic.head()"
   ]
  },
  {
   "cell_type": "markdown",
   "id": "69549697-9f83-4db9-9f6c-dbe6485b8d1a",
   "metadata": {},
   "source": [
    "On vas developper un model de classification pour determiner si un passager de titanic va survivre ou non au nofrage de navire"
   ]
  },
  {
   "cell_type": "markdown",
   "id": "a26117ac-f49d-4c3a-af03-33a7af776218",
   "metadata": {},
   "source": [
    "https://scikit-learn.org/stable/tutorial/machine_learning_map/index.html"
   ]
  },
  {
   "cell_type": "markdown",
   "id": "26b43bd2-16bc-4d2d-8b02-9f1007e3c275",
   "metadata": {},
   "source": [
    "Donc on vas choisire KNeighbors Classifier"
   ]
  },
  {
   "cell_type": "markdown",
   "id": "2be2c692-428a-400a-a629-80ef0a4baebe",
   "metadata": {
    "tags": []
   },
   "source": [
    "(Voisins les plus proches)"
   ]
  },
  {
   "cell_type": "markdown",
   "id": "574507be-1f29-4bea-ac00-7e0300cc2de6",
   "metadata": {},
   "source": [
    "https://scikit-learn.org/stable/modules/neighbors.html"
   ]
  },
  {
   "cell_type": "code",
   "execution_count": 17,
   "id": "d8856ee9-2d2a-440b-b41d-0aed9b8e70ac",
   "metadata": {
    "tags": []
   },
   "outputs": [],
   "source": [
    "from sklearn.neighbors import KNeighborsClassifier"
   ]
  },
  {
   "cell_type": "code",
   "execution_count": 18,
   "id": "087b112e-3b61-4e3a-ab89-c282462377a7",
   "metadata": {
    "tags": []
   },
   "outputs": [],
   "source": [
    "model = KNeighborsClassifier() #initialiser notre modele"
   ]
  },
  {
   "cell_type": "markdown",
   "id": "b5517e71-c55f-400e-824b-b2f81cf6fe07",
   "metadata": {},
   "source": [
    "mais le problemme on a pas de donnee x et y pour entrainer notre model mais on dispose uniquement d'un tableau pandas .\n",
    "\n",
    "Donc pour ca on vas divise notre tableau a 2 :\n",
    "\n",
    "1. Notre tableau y : au colonne survived\n",
    "\n",
    "2. Notre tableau x : qui contiendra le reste de notre tableau a l'exeption de notre colonne survived"
   ]
  },
  {
   "cell_type": "code",
   "execution_count": 19,
   "id": "38485309-63b6-4f94-bb3b-4058d762f77b",
   "metadata": {
    "tags": []
   },
   "outputs": [
    {
     "data": {
      "text/plain": [
       "0    0\n",
       "1    1\n",
       "2    1\n",
       "3    1\n",
       "4    0\n",
       "Name: survived, dtype: int64"
      ]
     },
     "execution_count": 19,
     "metadata": {},
     "output_type": "execute_result"
    }
   ],
   "source": [
    "y = titanic['survived']\n",
    "y.head()"
   ]
  },
  {
   "cell_type": "code",
   "execution_count": 20,
   "id": "44eb83ec-ef75-404f-89ed-258c55a85abc",
   "metadata": {
    "tags": []
   },
   "outputs": [
    {
     "data": {
      "text/html": [
       "<div>\n",
       "<style scoped>\n",
       "    .dataframe tbody tr th:only-of-type {\n",
       "        vertical-align: middle;\n",
       "    }\n",
       "\n",
       "    .dataframe tbody tr th {\n",
       "        vertical-align: top;\n",
       "    }\n",
       "\n",
       "    .dataframe thead th {\n",
       "        text-align: right;\n",
       "    }\n",
       "</style>\n",
       "<table border=\"1\" class=\"dataframe\">\n",
       "  <thead>\n",
       "    <tr style=\"text-align: right;\">\n",
       "      <th></th>\n",
       "      <th>pclass</th>\n",
       "      <th>sex</th>\n",
       "      <th>age</th>\n",
       "    </tr>\n",
       "  </thead>\n",
       "  <tbody>\n",
       "    <tr>\n",
       "      <th>0</th>\n",
       "      <td>3</td>\n",
       "      <td>0</td>\n",
       "      <td>22.0</td>\n",
       "    </tr>\n",
       "    <tr>\n",
       "      <th>1</th>\n",
       "      <td>1</td>\n",
       "      <td>1</td>\n",
       "      <td>38.0</td>\n",
       "    </tr>\n",
       "    <tr>\n",
       "      <th>2</th>\n",
       "      <td>3</td>\n",
       "      <td>1</td>\n",
       "      <td>26.0</td>\n",
       "    </tr>\n",
       "    <tr>\n",
       "      <th>3</th>\n",
       "      <td>1</td>\n",
       "      <td>1</td>\n",
       "      <td>35.0</td>\n",
       "    </tr>\n",
       "    <tr>\n",
       "      <th>4</th>\n",
       "      <td>3</td>\n",
       "      <td>0</td>\n",
       "      <td>35.0</td>\n",
       "    </tr>\n",
       "  </tbody>\n",
       "</table>\n",
       "</div>"
      ],
      "text/plain": [
       "   pclass  sex   age\n",
       "0       3    0  22.0\n",
       "1       1    1  38.0\n",
       "2       3    1  26.0\n",
       "3       1    1  35.0\n",
       "4       3    0  35.0"
      ]
     },
     "execution_count": 20,
     "metadata": {},
     "output_type": "execute_result"
    }
   ],
   "source": [
    "x = titanic.drop(columns=['survived'])\n",
    "#x = titanic.drop('survived', axis=1) \n",
    "x.head()"
   ]
  },
  {
   "cell_type": "code",
   "execution_count": 21,
   "id": "12f3fb93-e161-47a8-9f1f-6276a78faefb",
   "metadata": {
    "tags": []
   },
   "outputs": [
    {
     "data": {
      "text/html": [
       "<style>#sk-container-id-1 {color: black;background-color: white;}#sk-container-id-1 pre{padding: 0;}#sk-container-id-1 div.sk-toggleable {background-color: white;}#sk-container-id-1 label.sk-toggleable__label {cursor: pointer;display: block;width: 100%;margin-bottom: 0;padding: 0.3em;box-sizing: border-box;text-align: center;}#sk-container-id-1 label.sk-toggleable__label-arrow:before {content: \"▸\";float: left;margin-right: 0.25em;color: #696969;}#sk-container-id-1 label.sk-toggleable__label-arrow:hover:before {color: black;}#sk-container-id-1 div.sk-estimator:hover label.sk-toggleable__label-arrow:before {color: black;}#sk-container-id-1 div.sk-toggleable__content {max-height: 0;max-width: 0;overflow: hidden;text-align: left;background-color: #f0f8ff;}#sk-container-id-1 div.sk-toggleable__content pre {margin: 0.2em;color: black;border-radius: 0.25em;background-color: #f0f8ff;}#sk-container-id-1 input.sk-toggleable__control:checked~div.sk-toggleable__content {max-height: 200px;max-width: 100%;overflow: auto;}#sk-container-id-1 input.sk-toggleable__control:checked~label.sk-toggleable__label-arrow:before {content: \"▾\";}#sk-container-id-1 div.sk-estimator input.sk-toggleable__control:checked~label.sk-toggleable__label {background-color: #d4ebff;}#sk-container-id-1 div.sk-label input.sk-toggleable__control:checked~label.sk-toggleable__label {background-color: #d4ebff;}#sk-container-id-1 input.sk-hidden--visually {border: 0;clip: rect(1px 1px 1px 1px);clip: rect(1px, 1px, 1px, 1px);height: 1px;margin: -1px;overflow: hidden;padding: 0;position: absolute;width: 1px;}#sk-container-id-1 div.sk-estimator {font-family: monospace;background-color: #f0f8ff;border: 1px dotted black;border-radius: 0.25em;box-sizing: border-box;margin-bottom: 0.5em;}#sk-container-id-1 div.sk-estimator:hover {background-color: #d4ebff;}#sk-container-id-1 div.sk-parallel-item::after {content: \"\";width: 100%;border-bottom: 1px solid gray;flex-grow: 1;}#sk-container-id-1 div.sk-label:hover label.sk-toggleable__label {background-color: #d4ebff;}#sk-container-id-1 div.sk-serial::before {content: \"\";position: absolute;border-left: 1px solid gray;box-sizing: border-box;top: 0;bottom: 0;left: 50%;z-index: 0;}#sk-container-id-1 div.sk-serial {display: flex;flex-direction: column;align-items: center;background-color: white;padding-right: 0.2em;padding-left: 0.2em;position: relative;}#sk-container-id-1 div.sk-item {position: relative;z-index: 1;}#sk-container-id-1 div.sk-parallel {display: flex;align-items: stretch;justify-content: center;background-color: white;position: relative;}#sk-container-id-1 div.sk-item::before, #sk-container-id-1 div.sk-parallel-item::before {content: \"\";position: absolute;border-left: 1px solid gray;box-sizing: border-box;top: 0;bottom: 0;left: 50%;z-index: -1;}#sk-container-id-1 div.sk-parallel-item {display: flex;flex-direction: column;z-index: 1;position: relative;background-color: white;}#sk-container-id-1 div.sk-parallel-item:first-child::after {align-self: flex-end;width: 50%;}#sk-container-id-1 div.sk-parallel-item:last-child::after {align-self: flex-start;width: 50%;}#sk-container-id-1 div.sk-parallel-item:only-child::after {width: 0;}#sk-container-id-1 div.sk-dashed-wrapped {border: 1px dashed gray;margin: 0 0.4em 0.5em 0.4em;box-sizing: border-box;padding-bottom: 0.4em;background-color: white;}#sk-container-id-1 div.sk-label label {font-family: monospace;font-weight: bold;display: inline-block;line-height: 1.2em;}#sk-container-id-1 div.sk-label-container {text-align: center;}#sk-container-id-1 div.sk-container {/* jupyter's `normalize.less` sets `[hidden] { display: none; }` but bootstrap.min.css set `[hidden] { display: none !important; }` so we also need the `!important` here to be able to override the default hidden behavior on the sphinx rendered scikit-learn.org. See: https://github.com/scikit-learn/scikit-learn/issues/21755 */display: inline-block !important;position: relative;}#sk-container-id-1 div.sk-text-repr-fallback {display: none;}</style><div id=\"sk-container-id-1\" class=\"sk-top-container\"><div class=\"sk-text-repr-fallback\"><pre>KNeighborsClassifier()</pre><b>In a Jupyter environment, please rerun this cell to show the HTML representation or trust the notebook. <br />On GitHub, the HTML representation is unable to render, please try loading this page with nbviewer.org.</b></div><div class=\"sk-container\" hidden><div class=\"sk-item\"><div class=\"sk-estimator sk-toggleable\"><input class=\"sk-toggleable__control sk-hidden--visually\" id=\"sk-estimator-id-1\" type=\"checkbox\" checked><label for=\"sk-estimator-id-1\" class=\"sk-toggleable__label sk-toggleable__label-arrow\">KNeighborsClassifier</label><div class=\"sk-toggleable__content\"><pre>KNeighborsClassifier()</pre></div></div></div></div></div>"
      ],
      "text/plain": [
       "KNeighborsClassifier()"
      ]
     },
     "execution_count": 21,
     "metadata": {},
     "output_type": "execute_result"
    }
   ],
   "source": [
    "model.fit(x,y) # l'entrainement de mon model "
   ]
  },
  {
   "cell_type": "code",
   "execution_count": 22,
   "id": "9b07da02-c930-4c66-8080-d99ece30f85b",
   "metadata": {
    "tags": []
   },
   "outputs": [
    {
     "data": {
      "text/plain": [
       "0.8417366946778712"
      ]
     },
     "execution_count": 22,
     "metadata": {},
     "output_type": "execute_result"
    }
   ],
   "source": [
    "model.score(x,y) #c'est la perdiction de survit d'un passager"
   ]
  },
  {
   "cell_type": "markdown",
   "id": "e7008bd3-b7b7-416c-9649-5d3dcc462c3b",
   "metadata": {},
   "source": [
    "depuit 2019 KNeighborsClassifier() a effectuer plain de mise a jour d'ou la precision a augmenter par exemple dans la video elle est de 83% et la elle est de 84%"
   ]
  },
  {
   "cell_type": "markdown",
   "id": "bef4f949-b9ce-497d-8bad-4e6903075cad",
   "metadata": {},
   "source": [
    "Don a present on peut utiliser la methode predict() pour voire les passager qui aurait survicu ou non"
   ]
  },
  {
   "cell_type": "code",
   "execution_count": 23,
   "id": "4ed3f407-0e3f-498f-97ba-22a245ed6b89",
   "metadata": {
    "tags": []
   },
   "outputs": [
    {
     "data": {
      "text/plain": [
       "(714,)"
      ]
     },
     "execution_count": 23,
     "metadata": {},
     "output_type": "execute_result"
    }
   ],
   "source": [
    "prediction = model.predict(x)\n",
    "prediction.shape"
   ]
  },
  {
   "cell_type": "code",
   "execution_count": 24,
   "id": "d77499a7-389d-4962-a78d-3fac0281b861",
   "metadata": {
    "tags": []
   },
   "outputs": [
    {
     "data": {
      "text/plain": [
       "(714,)"
      ]
     },
     "execution_count": 24,
     "metadata": {},
     "output_type": "execute_result"
    }
   ],
   "source": [
    "y.shape"
   ]
  },
  {
   "cell_type": "code",
   "execution_count": 25,
   "id": "7fc7606d-c8c3-4862-82f6-a4399f5e566c",
   "metadata": {
    "tags": []
   },
   "outputs": [
    {
     "data": {
      "text/plain": [
       "(714, 3)"
      ]
     },
     "execution_count": 25,
     "metadata": {},
     "output_type": "execute_result"
    }
   ],
   "source": [
    "x.shape"
   ]
  },
  {
   "cell_type": "code",
   "execution_count": 26,
   "id": "7cd9a9cd-0fe6-4dfa-bc15-0788dd2d7867",
   "metadata": {
    "tags": []
   },
   "outputs": [
    {
     "data": {
      "text/plain": [
       "0      3\n",
       "1      1\n",
       "2      3\n",
       "3      1\n",
       "4      3\n",
       "      ..\n",
       "885    3\n",
       "886    2\n",
       "887    1\n",
       "889    1\n",
       "890    3\n",
       "Name: pclass, Length: 714, dtype: int64"
      ]
     },
     "execution_count": 26,
     "metadata": {},
     "output_type": "execute_result"
    }
   ],
   "source": [
    "xx = x.iloc[:, 0]\n",
    "xx"
   ]
  },
  {
   "cell_type": "code",
   "execution_count": 27,
   "id": "b8bbf70f-63b9-4440-9ecc-67c51d6f23a5",
   "metadata": {
    "tags": []
   },
   "outputs": [],
   "source": [
    "#plt.scatter(xx,y)\n",
    "#plt.plot(xx, prediction, c='r' )"
   ]
  },
  {
   "cell_type": "markdown",
   "id": "2ff431a0-749a-4b1c-988c-80595986ecaa",
   "metadata": {},
   "source": [
    "Ecrire une fonction pour savoire si une personne donnee aurait survecu ou non "
   ]
  },
  {
   "cell_type": "code",
   "execution_count": 28,
   "id": "d066de56-25d1-432c-84e7-29edaa3b4283",
   "metadata": {
    "tags": []
   },
   "outputs": [],
   "source": [
    "def survie(model, pclass=3, sex=1, age=22):\n",
    "    #cree un tableau numpy qui contient ces informations\n",
    "    #Mais on doit le redimentionnee\n",
    "    x = np.array([pclass,sex,age]).reshape(1,3)\n",
    "    print(model.predict(x))\n",
    "    print(model.predict_proba(x)) # la proba d'appaertenire a une classe \n",
    "    "
   ]
  },
  {
   "cell_type": "code",
   "execution_count": 29,
   "id": "628f7e23-c4f7-498f-b0c7-cfe8270c75c5",
   "metadata": {
    "tags": []
   },
   "outputs": [
    {
     "name": "stdout",
     "output_type": "stream",
     "text": [
      "[1]\n",
      "[[0.4 0.6]]\n"
     ]
    },
    {
     "name": "stderr",
     "output_type": "stream",
     "text": [
      "C:\\Users\\maiss\\anaconda3\\lib\\site-packages\\sklearn\\base.py:439: UserWarning: X does not have valid feature names, but KNeighborsClassifier was fitted with feature names\n",
      "  warnings.warn(\n",
      "C:\\Users\\maiss\\anaconda3\\lib\\site-packages\\sklearn\\base.py:439: UserWarning: X does not have valid feature names, but KNeighborsClassifier was fitted with feature names\n",
      "  warnings.warn(\n"
     ]
    }
   ],
   "source": [
    "survie(model)"
   ]
  },
  {
   "cell_type": "markdown",
   "id": "0924c31c-deb6-445b-b22b-2dcfefebd546",
   "metadata": {},
   "source": [
    "# Exercice"
   ]
  },
  {
   "cell_type": "markdown",
   "id": "ec85415f-cac8-4e3e-abc6-d7f31797cf4b",
   "metadata": {},
   "source": [
    "Ecrire un code pour le millieur nbr de voisin possible "
   ]
  },
  {
   "cell_type": "code",
   "execution_count": 30,
   "id": "5359b0b6-942e-4e18-be52-423561b85176",
   "metadata": {
    "tags": []
   },
   "outputs": [
    {
     "name": "stdout",
     "output_type": "stream",
     "text": [
      "1\n"
     ]
    },
    {
     "data": {
      "text/plain": [
       "[<matplotlib.lines.Line2D at 0x1dc8f6c37f0>]"
      ]
     },
     "execution_count": 30,
     "metadata": {},
     "output_type": "execute_result"
    },
    {
     "data": {
      "image/png": "[encoded data removed]",
      "text/plain": [
       "<Figure size 640x480 with 1 Axes>"
      ]
     },
     "metadata": {},
     "output_type": "display_data"
    }
   ],
   "source": [
    "score = []\n",
    "best_k = 1\n",
    "best_score = 0\n",
    "\n",
    "for k in range(best_k, 30):\n",
    "    model = KNeighborsClassifier(n_neighbors=k)\n",
    "    model.fit(x,y)\n",
    "    score.append(model.score(x,y))\n",
    "    \n",
    "    if best_score < model.score(x,y):\n",
    "        best_k = k\n",
    "        best_score = model.score(x,y)\n",
    "        \n",
    "print(best_k)\n",
    "plt.plot(score)"
   ]
  },
  {
   "cell_type": "code",
   "execution_count": null,
   "id": "1ce5b7a0-ec13-4b43-bd6b-628794782735",
   "metadata": {},
   "outputs": [],
   "source": []
  }
 ],
 "metadata": {
  "kernelspec": {
   "display_name": "Python 3 (ipykernel)",
   "language": "python",
   "name": "python3"
  },
  "language_info": {
   "codemirror_mode": {
    "name": "ipython",
    "version": 3
   },
   "file_extension": ".py",
   "mimetype": "text/x-python",
   "name": "python",
   "nbconvert_exporter": "python",
   "pygments_lexer": "ipython3",
   "version": "3.10.13"
  },
  "widgets": {
   "application/vnd.jupyter.widget-state+json": {
    "state": {},
    "version_major": 2,
    "version_minor": 0
   }
  }
 },
 "nbformat": 4,
 "nbformat_minor": 5
}
